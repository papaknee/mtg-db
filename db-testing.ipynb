{
 "cells": [
  {
   "cell_type": "code",
   "execution_count": 1,
   "id": "5734d528",
   "metadata": {},
   "outputs": [],
   "source": [
    "import numpy as np\n",
    "import pandas as pd\n",
    "import requests\n",
    "import sqlite3\n",
    "import os"
   ]
  },
  {
   "cell_type": "code",
   "execution_count": 13,
   "id": "2277ac26",
   "metadata": {},
   "outputs": [
    {
     "data": {
      "text/plain": [
       "{'oracle_cards': 0,\n",
       " 'unique_artwork': 1,\n",
       " 'default_cards': 2,\n",
       " 'all_cards': 3,\n",
       " 'rulings': 4}"
      ]
     },
     "execution_count": 13,
     "metadata": {},
     "output_type": "execute_result"
    }
   ],
   "source": [
    "##get bulk card locations and update times\n",
    "files = requests.get('https://api.scryfall.com/bulk-data').json()\n",
    "\n",
    "##get file names\n",
    "files_dict = dict({})\n",
    "for i in range(len(files['data'])):\n",
    "    files_dict[files['data'][i]['type']] = i\n",
    "files_dict"
   ]
  },
  {
   "cell_type": "code",
   "execution_count": 21,
   "id": "449e29f6",
   "metadata": {},
   "outputs": [],
   "source": [
    "##set files to copy as to sql tables\n",
    "files_to_copy = ['oracle_cards','all_cards']"
   ]
  },
  {
   "cell_type": "code",
   "execution_count": 22,
   "id": "0cd45309",
   "metadata": {},
   "outputs": [],
   "source": [
    "##make or update scryfall files manifest\n",
    "manifest_cols = ['scryfall_bulk_data_index','scryfall_data_desc','scryfall_updated_date']\n",
    "manifest = pd.DataFrame(columns=manifest_cols)\n",
    "for d in files_to_copy:\n",
    "    df = pd.DataFrame([[files_dict[d],d,files['data'][files_dict[d]]['updated_at']]],columns=manifest_cols)\n",
    "    manifest = pd.concat([manifest,df],ignore_index=True)\n",
    "\n",
    "manifest.to_csv('scryfall_manifest.csv',index=False)"
   ]
  },
  {
   "cell_type": "code",
   "execution_count": 28,
   "id": "8efc305b",
   "metadata": {},
   "outputs": [
    {
     "name": "stdout",
     "output_type": "stream",
     "text": [
      "Full rebuild: oracle_cards done.\n",
      "Full rebuild: all_cards done.\n"
     ]
    }
   ],
   "source": [
    "##open sql conn\n",
    "db_path = os.path.join('database.db')\n",
    "conn = sqlite3.connect(db_path)\n",
    "\n",
    "##build the tables\n",
    "for d in files_to_copy:\n",
    "    url = files['data'][files_dict[d]]['download_uri']\n",
    "    data = requests.get(url).json()\n",
    "    columns = [c for c in data[0]]\n",
    "    df = pd.DataFrame(data, columns=columns)\n",
    "    for col in columns:\n",
    "        df[col] = str(df[col])\n",
    "    df.to_sql(name=d,con=conn, if_exists='replace', index=False)\n",
    "    print('Full rebuild of',d,'complete.')\n"
   ]
  },
  {
   "cell_type": "code",
   "execution_count": 29,
   "id": "2549c80d",
   "metadata": {},
   "outputs": [],
   "source": [
    "conn.commit()\n",
    "conn.close()"
   ]
  }
 ],
 "metadata": {
  "kernelspec": {
   "display_name": "Python 3",
   "language": "python",
   "name": "python3"
  },
  "language_info": {
   "codemirror_mode": {
    "name": "ipython",
    "version": 3
   },
   "file_extension": ".py",
   "mimetype": "text/x-python",
   "name": "python",
   "nbconvert_exporter": "python",
   "pygments_lexer": "ipython3",
   "version": "3.11.9"
  }
 },
 "nbformat": 4,
 "nbformat_minor": 5
}
